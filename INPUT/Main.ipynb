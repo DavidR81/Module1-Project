{
 "cells": [
  {
   "cell_type": "code",
   "execution_count": 1,
   "metadata": {},
   "outputs": [],
   "source": [
    "import numpy as np\n",
    "import pandas as pd\n",
    "import re"
   ]
  },
  {
   "cell_type": "code",
   "execution_count": 2,
   "metadata": {},
   "outputs": [
    {
     "data": {
      "text/html": [
       "<div>\n",
       "<style scoped>\n",
       "    .dataframe tbody tr th:only-of-type {\n",
       "        vertical-align: middle;\n",
       "    }\n",
       "\n",
       "    .dataframe tbody tr th {\n",
       "        vertical-align: top;\n",
       "    }\n",
       "\n",
       "    .dataframe thead th {\n",
       "        text-align: right;\n",
       "    }\n",
       "</style>\n",
       "<table border=\"1\" class=\"dataframe\">\n",
       "  <thead>\n",
       "    <tr style=\"text-align: right;\">\n",
       "      <th></th>\n",
       "      <th>YEAR</th>\n",
       "      <th>MONTH</th>\n",
       "      <th>DAY</th>\n",
       "      <th>HOUR</th>\n",
       "      <th>MINUTE</th>\n",
       "      <th>CAUSE</th>\n",
       "      <th>VALIDITY</th>\n",
       "      <th>FOCAL_DEPTH</th>\n",
       "      <th>PRIMARY_MAGNITUDE</th>\n",
       "      <th>REGION_CODE</th>\n",
       "      <th>...</th>\n",
       "      <th>ALL_INJURIES</th>\n",
       "      <th>INJURY_TOTAL</th>\n",
       "      <th>ALL_FATALITIES</th>\n",
       "      <th>FATALITY_TOTAL</th>\n",
       "      <th>ALL_DAMAGE_MILLIONS</th>\n",
       "      <th>DAMAGE_TOTAL</th>\n",
       "      <th>ALL_HOUSES_DAMAGED</th>\n",
       "      <th>HOUSE_DAMAGE_TOTAL</th>\n",
       "      <th>ALL_HOUSES_DESTROYED</th>\n",
       "      <th>HOUSE_DESTRUCTION_TOTAL</th>\n",
       "    </tr>\n",
       "    <tr>\n",
       "      <th>SOURCE_ID</th>\n",
       "      <th></th>\n",
       "      <th></th>\n",
       "      <th></th>\n",
       "      <th></th>\n",
       "      <th></th>\n",
       "      <th></th>\n",
       "      <th></th>\n",
       "      <th></th>\n",
       "      <th></th>\n",
       "      <th></th>\n",
       "      <th></th>\n",
       "      <th></th>\n",
       "      <th></th>\n",
       "      <th></th>\n",
       "      <th></th>\n",
       "      <th></th>\n",
       "      <th></th>\n",
       "      <th></th>\n",
       "      <th></th>\n",
       "      <th></th>\n",
       "      <th></th>\n",
       "    </tr>\n",
       "  </thead>\n",
       "  <tbody>\n",
       "    <tr>\n",
       "      <th>1</th>\n",
       "      <td>-2000</td>\n",
       "      <td>NaN</td>\n",
       "      <td>NaN</td>\n",
       "      <td>NaN</td>\n",
       "      <td>NaN</td>\n",
       "      <td>1.0</td>\n",
       "      <td>1.0</td>\n",
       "      <td>NaN</td>\n",
       "      <td>NaN</td>\n",
       "      <td>50.0</td>\n",
       "      <td>...</td>\n",
       "      <td>NaN</td>\n",
       "      <td>NaN</td>\n",
       "      <td>NaN</td>\n",
       "      <td>3.0</td>\n",
       "      <td>NaN</td>\n",
       "      <td>4.0</td>\n",
       "      <td>NaN</td>\n",
       "      <td>NaN</td>\n",
       "      <td>NaN</td>\n",
       "      <td>NaN</td>\n",
       "    </tr>\n",
       "    <tr>\n",
       "      <th>3</th>\n",
       "      <td>-1610</td>\n",
       "      <td>NaN</td>\n",
       "      <td>NaN</td>\n",
       "      <td>NaN</td>\n",
       "      <td>NaN</td>\n",
       "      <td>6.0</td>\n",
       "      <td>4.0</td>\n",
       "      <td>NaN</td>\n",
       "      <td>NaN</td>\n",
       "      <td>50.0</td>\n",
       "      <td>...</td>\n",
       "      <td>NaN</td>\n",
       "      <td>NaN</td>\n",
       "      <td>NaN</td>\n",
       "      <td>3.0</td>\n",
       "      <td>NaN</td>\n",
       "      <td>3.0</td>\n",
       "      <td>NaN</td>\n",
       "      <td>NaN</td>\n",
       "      <td>NaN</td>\n",
       "      <td>NaN</td>\n",
       "    </tr>\n",
       "    <tr>\n",
       "      <th>4</th>\n",
       "      <td>-1365</td>\n",
       "      <td>NaN</td>\n",
       "      <td>NaN</td>\n",
       "      <td>NaN</td>\n",
       "      <td>NaN</td>\n",
       "      <td>1.0</td>\n",
       "      <td>1.0</td>\n",
       "      <td>NaN</td>\n",
       "      <td>NaN</td>\n",
       "      <td>50.0</td>\n",
       "      <td>...</td>\n",
       "      <td>NaN</td>\n",
       "      <td>NaN</td>\n",
       "      <td>NaN</td>\n",
       "      <td>NaN</td>\n",
       "      <td>NaN</td>\n",
       "      <td>3.0</td>\n",
       "      <td>NaN</td>\n",
       "      <td>NaN</td>\n",
       "      <td>NaN</td>\n",
       "      <td>NaN</td>\n",
       "    </tr>\n",
       "    <tr>\n",
       "      <th>5</th>\n",
       "      <td>-1300</td>\n",
       "      <td>NaN</td>\n",
       "      <td>NaN</td>\n",
       "      <td>NaN</td>\n",
       "      <td>NaN</td>\n",
       "      <td>0.0</td>\n",
       "      <td>2.0</td>\n",
       "      <td>NaN</td>\n",
       "      <td>6.0</td>\n",
       "      <td>50.0</td>\n",
       "      <td>...</td>\n",
       "      <td>NaN</td>\n",
       "      <td>NaN</td>\n",
       "      <td>NaN</td>\n",
       "      <td>NaN</td>\n",
       "      <td>NaN</td>\n",
       "      <td>NaN</td>\n",
       "      <td>NaN</td>\n",
       "      <td>NaN</td>\n",
       "      <td>NaN</td>\n",
       "      <td>NaN</td>\n",
       "    </tr>\n",
       "    <tr>\n",
       "      <th>6</th>\n",
       "      <td>-760</td>\n",
       "      <td>NaN</td>\n",
       "      <td>NaN</td>\n",
       "      <td>NaN</td>\n",
       "      <td>NaN</td>\n",
       "      <td>0.0</td>\n",
       "      <td>2.0</td>\n",
       "      <td>NaN</td>\n",
       "      <td>NaN</td>\n",
       "      <td>50.0</td>\n",
       "      <td>...</td>\n",
       "      <td>NaN</td>\n",
       "      <td>NaN</td>\n",
       "      <td>NaN</td>\n",
       "      <td>NaN</td>\n",
       "      <td>NaN</td>\n",
       "      <td>NaN</td>\n",
       "      <td>NaN</td>\n",
       "      <td>NaN</td>\n",
       "      <td>NaN</td>\n",
       "      <td>NaN</td>\n",
       "    </tr>\n",
       "    <tr>\n",
       "      <th>7</th>\n",
       "      <td>-590</td>\n",
       "      <td>NaN</td>\n",
       "      <td>NaN</td>\n",
       "      <td>NaN</td>\n",
       "      <td>NaN</td>\n",
       "      <td>1.0</td>\n",
       "      <td>2.0</td>\n",
       "      <td>NaN</td>\n",
       "      <td>NaN</td>\n",
       "      <td>50.0</td>\n",
       "      <td>...</td>\n",
       "      <td>NaN</td>\n",
       "      <td>NaN</td>\n",
       "      <td>NaN</td>\n",
       "      <td>NaN</td>\n",
       "      <td>NaN</td>\n",
       "      <td>NaN</td>\n",
       "      <td>NaN</td>\n",
       "      <td>NaN</td>\n",
       "      <td>NaN</td>\n",
       "      <td>NaN</td>\n",
       "    </tr>\n",
       "    <tr>\n",
       "      <th>8</th>\n",
       "      <td>-525</td>\n",
       "      <td>NaN</td>\n",
       "      <td>NaN</td>\n",
       "      <td>NaN</td>\n",
       "      <td>NaN</td>\n",
       "      <td>1.0</td>\n",
       "      <td>2.0</td>\n",
       "      <td>NaN</td>\n",
       "      <td>NaN</td>\n",
       "      <td>50.0</td>\n",
       "      <td>...</td>\n",
       "      <td>NaN</td>\n",
       "      <td>NaN</td>\n",
       "      <td>NaN</td>\n",
       "      <td>NaN</td>\n",
       "      <td>NaN</td>\n",
       "      <td>NaN</td>\n",
       "      <td>NaN</td>\n",
       "      <td>NaN</td>\n",
       "      <td>NaN</td>\n",
       "      <td>NaN</td>\n",
       "    </tr>\n",
       "    <tr>\n",
       "      <th>3469</th>\n",
       "      <td>-480</td>\n",
       "      <td>9.0</td>\n",
       "      <td>29.0</td>\n",
       "      <td>NaN</td>\n",
       "      <td>NaN</td>\n",
       "      <td>1.0</td>\n",
       "      <td>1.0</td>\n",
       "      <td>NaN</td>\n",
       "      <td>NaN</td>\n",
       "      <td>50.0</td>\n",
       "      <td>...</td>\n",
       "      <td>NaN</td>\n",
       "      <td>NaN</td>\n",
       "      <td>NaN</td>\n",
       "      <td>NaN</td>\n",
       "      <td>NaN</td>\n",
       "      <td>NaN</td>\n",
       "      <td>NaN</td>\n",
       "      <td>NaN</td>\n",
       "      <td>NaN</td>\n",
       "      <td>NaN</td>\n",
       "    </tr>\n",
       "    <tr>\n",
       "      <th>9</th>\n",
       "      <td>-479</td>\n",
       "      <td>NaN</td>\n",
       "      <td>NaN</td>\n",
       "      <td>NaN</td>\n",
       "      <td>NaN</td>\n",
       "      <td>1.0</td>\n",
       "      <td>2.0</td>\n",
       "      <td>NaN</td>\n",
       "      <td>7.0</td>\n",
       "      <td>50.0</td>\n",
       "      <td>...</td>\n",
       "      <td>NaN</td>\n",
       "      <td>NaN</td>\n",
       "      <td>NaN</td>\n",
       "      <td>3.0</td>\n",
       "      <td>NaN</td>\n",
       "      <td>NaN</td>\n",
       "      <td>NaN</td>\n",
       "      <td>NaN</td>\n",
       "      <td>NaN</td>\n",
       "      <td>NaN</td>\n",
       "    </tr>\n",
       "    <tr>\n",
       "      <th>10</th>\n",
       "      <td>-426</td>\n",
       "      <td>6.0</td>\n",
       "      <td>NaN</td>\n",
       "      <td>NaN</td>\n",
       "      <td>NaN</td>\n",
       "      <td>1.0</td>\n",
       "      <td>4.0</td>\n",
       "      <td>NaN</td>\n",
       "      <td>7.1</td>\n",
       "      <td>50.0</td>\n",
       "      <td>...</td>\n",
       "      <td>NaN</td>\n",
       "      <td>NaN</td>\n",
       "      <td>2500.0</td>\n",
       "      <td>4.0</td>\n",
       "      <td>NaN</td>\n",
       "      <td>3.0</td>\n",
       "      <td>NaN</td>\n",
       "      <td>NaN</td>\n",
       "      <td>NaN</td>\n",
       "      <td>3.0</td>\n",
       "    </tr>\n",
       "  </tbody>\n",
       "</table>\n",
       "<p>10 rows × 44 columns</p>\n",
       "</div>"
      ],
      "text/plain": [
       "           YEAR  MONTH   DAY  HOUR  MINUTE  CAUSE  VALIDITY  FOCAL_DEPTH  \\\n",
       "SOURCE_ID                                                                  \n",
       "1         -2000    NaN   NaN   NaN     NaN    1.0       1.0          NaN   \n",
       "3         -1610    NaN   NaN   NaN     NaN    6.0       4.0          NaN   \n",
       "4         -1365    NaN   NaN   NaN     NaN    1.0       1.0          NaN   \n",
       "5         -1300    NaN   NaN   NaN     NaN    0.0       2.0          NaN   \n",
       "6          -760    NaN   NaN   NaN     NaN    0.0       2.0          NaN   \n",
       "7          -590    NaN   NaN   NaN     NaN    1.0       2.0          NaN   \n",
       "8          -525    NaN   NaN   NaN     NaN    1.0       2.0          NaN   \n",
       "3469       -480    9.0  29.0   NaN     NaN    1.0       1.0          NaN   \n",
       "9          -479    NaN   NaN   NaN     NaN    1.0       2.0          NaN   \n",
       "10         -426    6.0   NaN   NaN     NaN    1.0       4.0          NaN   \n",
       "\n",
       "           PRIMARY_MAGNITUDE  REGION_CODE  ... ALL_INJURIES INJURY_TOTAL  \\\n",
       "SOURCE_ID                                  ...                             \n",
       "1                        NaN         50.0  ...          NaN          NaN   \n",
       "3                        NaN         50.0  ...          NaN          NaN   \n",
       "4                        NaN         50.0  ...          NaN          NaN   \n",
       "5                        6.0         50.0  ...          NaN          NaN   \n",
       "6                        NaN         50.0  ...          NaN          NaN   \n",
       "7                        NaN         50.0  ...          NaN          NaN   \n",
       "8                        NaN         50.0  ...          NaN          NaN   \n",
       "3469                     NaN         50.0  ...          NaN          NaN   \n",
       "9                        7.0         50.0  ...          NaN          NaN   \n",
       "10                       7.1         50.0  ...          NaN          NaN   \n",
       "\n",
       "          ALL_FATALITIES  FATALITY_TOTAL  ALL_DAMAGE_MILLIONS  DAMAGE_TOTAL  \\\n",
       "SOURCE_ID                                                                     \n",
       "1                    NaN             3.0                  NaN           4.0   \n",
       "3                    NaN             3.0                  NaN           3.0   \n",
       "4                    NaN             NaN                  NaN           3.0   \n",
       "5                    NaN             NaN                  NaN           NaN   \n",
       "6                    NaN             NaN                  NaN           NaN   \n",
       "7                    NaN             NaN                  NaN           NaN   \n",
       "8                    NaN             NaN                  NaN           NaN   \n",
       "3469                 NaN             NaN                  NaN           NaN   \n",
       "9                    NaN             3.0                  NaN           NaN   \n",
       "10                2500.0             4.0                  NaN           3.0   \n",
       "\n",
       "           ALL_HOUSES_DAMAGED  HOUSE_DAMAGE_TOTAL  ALL_HOUSES_DESTROYED  \\\n",
       "SOURCE_ID                                                                 \n",
       "1                         NaN                 NaN                   NaN   \n",
       "3                         NaN                 NaN                   NaN   \n",
       "4                         NaN                 NaN                   NaN   \n",
       "5                         NaN                 NaN                   NaN   \n",
       "6                         NaN                 NaN                   NaN   \n",
       "7                         NaN                 NaN                   NaN   \n",
       "8                         NaN                 NaN                   NaN   \n",
       "3469                      NaN                 NaN                   NaN   \n",
       "9                         NaN                 NaN                   NaN   \n",
       "10                        NaN                 NaN                   NaN   \n",
       "\n",
       "           HOUSE_DESTRUCTION_TOTAL  \n",
       "SOURCE_ID                           \n",
       "1                              NaN  \n",
       "3                              NaN  \n",
       "4                              NaN  \n",
       "5                              NaN  \n",
       "6                              NaN  \n",
       "7                              NaN  \n",
       "8                              NaN  \n",
       "3469                           NaN  \n",
       "9                              NaN  \n",
       "10                             3.0  \n",
       "\n",
       "[10 rows x 44 columns]"
      ]
     },
     "execution_count": 2,
     "metadata": {},
     "output_type": "execute_result"
    }
   ],
   "source": [
    "tsunami_Sources = pd.read_csv('../input/sources.csv', sep=\",\", header=0, index_col=0)\n",
    "tsunami_Sources.head(10)"
   ]
  },
  {
   "cell_type": "code",
   "execution_count": 3,
   "metadata": {},
   "outputs": [
    {
     "data": {
      "text/plain": [
       "(2582, 44)"
      ]
     },
     "execution_count": 3,
     "metadata": {},
     "output_type": "execute_result"
    }
   ],
   "source": [
    "tsunami_Sources.shape"
   ]
  },
  {
   "cell_type": "code",
   "execution_count": 4,
   "metadata": {},
   "outputs": [
    {
     "data": {
      "text/plain": [
       "MONTH                          139\n",
       "DAY                            241\n",
       "HOUR                          1263\n",
       "MINUTE                        1349\n",
       "CAUSE                            6\n",
       "VALIDITY                         2\n",
       "FOCAL_DEPTH                   1715\n",
       "PRIMARY_MAGNITUDE             1123\n",
       "REGION_CODE                      1\n",
       "COUNTRY                          1\n",
       "STATE/PROVINCE                2289\n",
       "LOCATION                        12\n",
       "LATITUDE                       359\n",
       "LONGITUDE                      360\n",
       "MAXIMUM_HEIGHT                1540\n",
       "MAGNITUDE_ABE                 2582\n",
       "MAGNITUDE_IIDA                1841\n",
       "INTENSITY_SOLOVIEV            1358\n",
       "WARNING_STATUS                2531\n",
       "MISSING                       2526\n",
       "MISSING_ESTIMATE              2514\n",
       "INJURIES                      2578\n",
       "INJURY_ESTIMATE               2578\n",
       "FATALITIES                    2346\n",
       "FATALITY_ESTIMATE             2258\n",
       "DAMAGE_MILLIONS_DOLLARS       2542\n",
       "DAMAGE_ESTIMATE               2042\n",
       "HOUSES_DAMAGED                2570\n",
       "HOUSE_DAMAGE_ESTIMATE         2544\n",
       "HOUSES_DESTROYED              2491\n",
       "HOUSE_DESTRUCTION_ESTIMATE    2330\n",
       "ALL_MISSING                   2574\n",
       "MISSING_TOTAL                 2574\n",
       "ALL_INJURIES                  2359\n",
       "INJURY_TOTAL                  2319\n",
       "ALL_FATALITIES                2060\n",
       "FATALITY_TOTAL                1929\n",
       "ALL_DAMAGE_MILLIONS           2466\n",
       "DAMAGE_TOTAL                  1576\n",
       "ALL_HOUSES_DAMAGED            2530\n",
       "HOUSE_DAMAGE_TOTAL            2437\n",
       "ALL_HOUSES_DESTROYED          2376\n",
       "HOUSE_DESTRUCTION_TOTAL       2007\n",
       "dtype: int64"
      ]
     },
     "execution_count": 4,
     "metadata": {},
     "output_type": "execute_result"
    }
   ],
   "source": [
    "null_cols = tsunami_Sources.isnull().sum()\n",
    "null_cols[null_cols > 0]"
   ]
  },
  {
   "cell_type": "code",
   "execution_count": 5,
   "metadata": {},
   "outputs": [
    {
     "data": {
      "text/plain": [
       "Index(['YEAR', 'MONTH', 'DAY', 'HOUR', 'MINUTE', 'CAUSE', 'VALIDITY',\n",
       "       'FOCAL_DEPTH', 'PRIMARY_MAGNITUDE', 'REGION_CODE', 'COUNTRY',\n",
       "       'STATE/PROVINCE', 'LOCATION', 'LATITUDE', 'LONGITUDE', 'MAXIMUM_HEIGHT',\n",
       "       'MAGNITUDE_ABE', 'MAGNITUDE_IIDA', 'INTENSITY_SOLOVIEV',\n",
       "       'WARNING_STATUS', 'MISSING', 'MISSING_ESTIMATE', 'INJURIES',\n",
       "       'INJURY_ESTIMATE', 'FATALITIES', 'FATALITY_ESTIMATE',\n",
       "       'DAMAGE_MILLIONS_DOLLARS', 'DAMAGE_ESTIMATE', 'HOUSES_DAMAGED',\n",
       "       'HOUSE_DAMAGE_ESTIMATE', 'HOUSES_DESTROYED',\n",
       "       'HOUSE_DESTRUCTION_ESTIMATE', 'ALL_MISSING', 'MISSING_TOTAL',\n",
       "       'ALL_INJURIES', 'INJURY_TOTAL', 'ALL_FATALITIES', 'FATALITY_TOTAL',\n",
       "       'ALL_DAMAGE_MILLIONS', 'DAMAGE_TOTAL', 'ALL_HOUSES_DAMAGED',\n",
       "       'HOUSE_DAMAGE_TOTAL', 'ALL_HOUSES_DESTROYED',\n",
       "       'HOUSE_DESTRUCTION_TOTAL'],\n",
       "      dtype='object')"
      ]
     },
     "execution_count": 5,
     "metadata": {},
     "output_type": "execute_result"
    }
   ],
   "source": [
    "tsunami_Sources.columns"
   ]
  },
  {
   "cell_type": "code",
   "execution_count": 6,
   "metadata": {},
   "outputs": [
    {
     "data": {
      "text/plain": [
       "(2582, 20)"
      ]
     },
     "execution_count": 6,
     "metadata": {},
     "output_type": "execute_result"
    }
   ],
   "source": [
    "tsunami_Sources = tsunami_Sources.drop(['HOUR','MINUTE','CAUSE','FOCAL_DEPTH','STATE/PROVINCE','MAGNITUDE_ABE',\n",
    "                                        'MAGNITUDE_IIDA','WARNING_STATUS','MISSING','MISSING_ESTIMATE','INJURIES',\n",
    "                                        'INJURY_ESTIMATE','DAMAGE_MILLIONS_DOLLARS','HOUSES_DAMAGED','HOUSE_DAMAGE_ESTIMATE',\n",
    "                                        'HOUSES_DESTROYED','HOUSE_DAMAGE_ESTIMATE','ALL_MISSING','MISSING_TOTAL','ALL_INJURIES',\n",
    "                                        'INJURY_TOTAL','ALL_HOUSES_DAMAGED','HOUSE_DAMAGE_TOTAL','ALL_HOUSES_DESTROYED',\n",
    "                                        'HOUSE_DESTRUCTION_TOTAL'], 1)\n",
    "tsunami_Sources.shape"
   ]
  },
  {
   "cell_type": "code",
   "execution_count": 7,
   "metadata": {},
   "outputs": [
    {
     "data": {
      "text/plain": [
       "SOURCE_ID\n",
       "1       False\n",
       "3       False\n",
       "4       False\n",
       "5       False\n",
       "6       False\n",
       "        ...  \n",
       "5632     True\n",
       "5636     True\n",
       "5637     True\n",
       "5639     True\n",
       "5642     True\n",
       "Name: YEAR, Length: 2582, dtype: bool"
      ]
     },
     "execution_count": 7,
     "metadata": {},
     "output_type": "execute_result"
    }
   ],
   "source": [
    "tsunami_Sources['YEAR'] > 2000\n"
   ]
  },
  {
   "cell_type": "code",
   "execution_count": 8,
   "metadata": {},
   "outputs": [],
   "source": [
    "tsunami_Sources['COUNTRY_FRECUENCY'] = tsunami_Sources.groupby(tsunami_Sources.COUNTRY)['COUNTRY'].transform('count')\n",
    "tsunami_Sources.COUNTRY[tsunami_Sources.COUNTRY_FRECUENCY > 50].value_counts().plot(kind='bar', legend=False, figsize=(12,5), \n",
    "                                            title=\"Frecuencia de tsunamis por paises > 50\", fontsize=12, alpha=0.5); "
   ]
  },
  {
   "cell_type": "code",
   "execution_count": 12,
   "metadata": {},
   "outputs": [
    {
     "name": "stdout",
     "output_type": "stream",
     "text": [
      "[2001, 2001, 2001, 2001, 2002, 2002, 2002, 2002, 2002, 2002, 2002, 2002, 2002, 2003, 2003, 2003, 2003, 2003, 2003, 2003, 2003, 2003, 2003, 2004, 2004, 2004, 2004, 2004, 2004, 2004, 2004, 2004, 2004, 2004, 2005, 2005, 2005, 2005, 2005, 2005, 2005, 2005, 2006, 2006, 2006, 2006, 2006, 2006, 2006, 2006, 2006, 2007, 2007, 2007, 2007, 2007, 2007, 2007, 2007, 2007, 2007, 2007, 2007, 2007, 2007, 2007, 2007, 2007, 2008, 2008, 2008, 2008, 2008, 2008, 2008, 2008, 2008, 2008, 2009, 2009, 2009, 2009, 2009, 2009, 2009, 2009, 2009, 2009, 2009, 2009, 2009, 2009, 2010, 2010, 2010, 2010, 2010, 2010, 2010, 2010, 2010, 2010, 2010, 2010, 2010, 2010, 2010, 2010, 2010, 2011, 2011, 2011, 2011, 2011, 2011, 2011, 2011, 2011, 2011, 2011, 2011, 2011, 2011, 2011, 2011, 2012, 2012, 2012, 2012, 2012, 2012, 2012, 2012, 2012, 2012, 2012, 2012, 2012, 2012, 2013, 2013, 2013, 2013, 2013, 2013, 2013, 2013, 2013, 2013, 2014, 2014, 2014, 2014, 2014, 2014, 2014, 2014, 2014, 2014, 2014, 2014, 2014, 2014, 2015, 2015, 2015, 2015, 2015, 2015, 2015, 2015, 2015, 2015, 2015, 2015, 2015, 2015, 2016, 2016, 2016, 2016, 2016, 2016, 2016, 2016, 2016, 2016, 2016, 2016, 2016, 2017, 2017]\n",
      "192\n"
     ]
    }
   ],
   "source": [
    "Year = []\n",
    "[Year.append(i) for i in tsunami_Sources['YEAR'] if i > 2000]\n",
    "\n",
    "print(Year)\n",
    "print(len(Year))"
   ]
  },
  {
   "cell_type": "code",
   "execution_count": null,
   "metadata": {},
   "outputs": [],
   "source": [
    "tsunami_Sources.COUNTRY[(tsunami_Sources.YEAR >= 1950) & (tsunami_Sources.COUNTRY_FRECUENCY > 50)].value_counts().plot(kind='bar',\n",
    "                legend=False, figsize=(12,5), title=\"Tsunamis frecuency by countries (Year >= 2000)\", fontsize=12, alpha=0.5); "
   ]
  },
  {
   "cell_type": "code",
   "execution_count": null,
   "metadata": {},
   "outputs": [],
   "source": [
    "tsunami = pd.read_csv('../input/waves.csv', sep=\",\", header=0, index_col=0)\n",
    "tsunami.head(20)"
   ]
  },
  {
   "cell_type": "code",
   "execution_count": null,
   "metadata": {},
   "outputs": [],
   "source": [
    "tsunami.shape"
   ]
  },
  {
   "cell_type": "code",
   "execution_count": null,
   "metadata": {},
   "outputs": [],
   "source": [
    "null_cols = tsunami.isnull().sum()\n",
    "null_cols[null_cols > 0]"
   ]
  },
  {
   "cell_type": "code",
   "execution_count": null,
   "metadata": {},
   "outputs": [],
   "source": [
    "tsunami = tsunami.drop(['TRAVEL_TIME_HOURS','TRAVEL_TIME_MINUTES','VALIDITY','FIRST_MOTION','INJURIES',\n",
    "                       'INJURY_ESTIMATE','FATALITIES','FATALITY_ESTIMATE','DAMAGE_MILLIONS_DOLLARS',\n",
    "                       'DAMAGE_ESTIMATE','HOUSES_DAMAGED','HOUSE_DAMAGE_ESTIMATE','HOUSES_DESTROYED',\n",
    "                       'HOUSE_DAMAGE_ESTIMATE'], 1)\n"
   ]
  },
  {
   "cell_type": "code",
   "execution_count": null,
   "metadata": {},
   "outputs": [],
   "source": [
    "tsunami.shape"
   ]
  },
  {
   "cell_type": "code",
   "execution_count": null,
   "metadata": {},
   "outputs": [],
   "source": [
    "tsunami.head(10)"
   ]
  },
  {
   "cell_type": "code",
   "execution_count": null,
   "metadata": {},
   "outputs": [],
   "source": [
    "list(tsunami.columns)"
   ]
  },
  {
   "cell_type": "code",
   "execution_count": null,
   "metadata": {},
   "outputs": [],
   "source": [
    "list(tsunami_Sources.columns)"
   ]
  },
  {
   "cell_type": "code",
   "execution_count": null,
   "metadata": {},
   "outputs": [],
   "source": [
    "tsunami_stat = pd.merge(tsunami_Sources, tsunami, on=['YEAR','MONTH','DAY','REGION_CODE','COUNTRY','LOCATION','LATITUDE',\n",
    "                                                      'LONGITUDE','MAXIMUM_HEIGHT','HOUSE_DESTRUCTION_ESTIMATE'])\n",
    "tsunami_stat.head(50)                                      "
   ]
  },
  {
   "cell_type": "code",
   "execution_count": null,
   "metadata": {},
   "outputs": [],
   "source": [
    "tsunami_stat.shape"
   ]
  },
  {
   "cell_type": "code",
   "execution_count": null,
   "metadata": {},
   "outputs": [],
   "source": []
  }
 ],
 "metadata": {
  "kernelspec": {
   "display_name": "Python 3",
   "language": "python",
   "name": "python3"
  },
  "language_info": {
   "codemirror_mode": {
    "name": "ipython",
    "version": 3
   },
   "file_extension": ".py",
   "mimetype": "text/x-python",
   "name": "python",
   "nbconvert_exporter": "python",
   "pygments_lexer": "ipython3",
   "version": "3.7.4"
  }
 },
 "nbformat": 4,
 "nbformat_minor": 2
}
