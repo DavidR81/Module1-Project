{
 "cells": [
  {
   "cell_type": "code",
   "execution_count": 133,
   "metadata": {},
   "outputs": [],
   "source": [
    "import requests\n",
    "from bs4 import BeautifulSoup\n",
    "import pandas as pd"
   ]
  },
  {
   "cell_type": "code",
   "execution_count": 134,
   "metadata": {},
   "outputs": [],
   "source": [
    "url = 'https://cnnespanol.cnn.com/2019/06/18/los-13-tsunamis-mas-mortales-de-la-historia/'\n",
    "page = requests.get(url)\n",
    "soup = BeautifulSoup(page.content, 'html.parser')\n",
    "\n",
    "columna = soup.select('body > div.normalizecss.template--20 > article > div > div > div > div > div')\n",
    "fechas = []\n",
    "fechas1 = []\n",
    "for i in columna:\n",
    "    parrafo = i.select('p')\n",
    "    fechas.append(parrafo)  \n",
    "for i in range(5,18):\n",
    "    fechas1.append(fechas[0][i].text.split(\"—\"))\n",
    "    \n",
    "\n",
    "\n"
   ]
  },
  {
   "cell_type": "code",
   "execution_count": 135,
   "metadata": {},
   "outputs": [
    {
     "data": {
      "text/plain": [
       "[['1 de noviembre de 1755 ',\n",
       "  ' Se estima que 60.000 personas murieron cuando un terremoto golpea a Lisboa, Portugal, y causa un tsunami.'],\n",
       " ['27 de agosto de 1883 ',\n",
       "  ' Se estima que 36.000 personas murieron cuando el volcán Krakatau entró en erupción causando un tsunami en las islas indonesias de Java y Sumatra.'],\n",
       " ['15 de junio de 1896 ',\n",
       "  ' Se estima que 28.000 personas murieron cuando un terremoto de magnitud 8,5 golpeó Sanriku, Japón, causando un devastador tsunami.'],\n",
       " ['28 de diciembre de 1908 ',\n",
       "  ' Se estima que entre 70.000 y 100.000 personas murieron cuando un terremoto de magnitud 7,2 golpea Messina, Italia, y causa un tsunami en el Estrecho de Messina.'],\n",
       " ['22 de mayo de 1960 ',\n",
       "  ' Aproximadamente 1.500 personas murieron cuando un terremoto de magnitud 9,5 golpeó Chile y causó un tsunami.'],\n",
       " ['28 de marzo de 1964 ',\n",
       "  ' Se estima que 128 personas murieron cuando un terremoto de magnitud 9,2 golpeó Prince William Sound, Alaska, y causó un tsunami.'],\n",
       " ['16 de agosto de 1976 ',\n",
       "  ' Se estima que entre 4.000 y 8.000 personas mueren cuando un terremoto de magnitud 8,0 golpeó a Filipinas y causó un tsunami.'],\n",
       " ['17 de julio de 1998 ',\n",
       "  ' Aproximadamente 2.200 personas murieron cuando un terremoto de magnitud 7,0 golpeó Papua Nueva Guinea y causó un tsunami.'],\n",
       " ['26 de diciembre de 2004 ',\n",
       "  ' Se estima que 227.898 personas murieron cuando un terremoto de magnitud 9,1 azotó Sumatra, Indonesia, y provocó un tsunami posterior en 14 países en el sur de Asia y África oriental.'],\n",
       " ['25 de octubre de 2010 ',\n",
       "  ' Se estima que 449 personas murieron cuando un terremoto de magnitud 7,7 azotó a Indonesia y causó un tsunami.'],\n",
       " ['11 de marzo de 2011 ',\n",
       "  ' Se produjo un terremoto de magnitud 9,1 a 371 kilómetros al noreste de Tokio. El terremoto causó un tsunami con olas de nueve metros que dañaron varios reactores nucleares en el área. El total combinado de muertes confirmadas y desaparecidas es de más de 22.000 (casi 20.000 muertes y 2.500 desaparecidos). (Fuente: Agencia de Manejo de Desastres y Fuego de Japón)'],\n",
       " ['28 de septiembre de 2018 ',\n",
       "  ' Más de 2.100 personas murieron cuando un terremoto de magnitud 7,5 golpea la isla indonesia de Sulawesi y causó un tsunami.'],\n",
       " ['22 de diciembre de 2018 ',\n",
       "  ' Un tsunami con olas de hasta tres metros golpea Pandeglang, Serang y el sur de Lampung, Indonesia, dejando más de 430 muertos, 148 desaparecidos y 16.000 desplazados. Los funcionarios creen que el tsunami fue causado por una serie de deslizamientos de tierra bajo el agua provocados por una erupción volcánica.\\n\\t\\t\\t\\t\\t\\t\\t\\t\\t\\n\\t\\t\\t\\t\\t\\t\\t\\t\\t\\n\\t\\nTsunami\\n\\n\\n\\n\\n\\n\\n\\n\\n']]"
      ]
     },
     "execution_count": 135,
     "metadata": {},
     "output_type": "execute_result"
    }
   ],
   "source": [
    "fechas1"
   ]
  },
  {
   "cell_type": "code",
   "execution_count": 136,
   "metadata": {},
   "outputs": [
    {
     "data": {
      "text/plain": [
       "{'1 de noviembre de 1755 ': ' Se estima que 60.000 personas murieron cuando un terremoto golpea a Lisboa, Portugal, y causa un tsunami.',\n",
       " '27 de agosto de 1883 ': ' Se estima que 36.000 personas murieron cuando el volcán Krakatau entró en erupción causando un tsunami en las islas indonesias de Java y Sumatra.',\n",
       " '15 de junio de 1896 ': ' Se estima que 28.000 personas murieron cuando un terremoto de magnitud 8,5 golpeó Sanriku, Japón, causando un devastador tsunami.',\n",
       " '28 de diciembre de 1908 ': ' Se estima que entre 70.000 y 100.000 personas murieron cuando un terremoto de magnitud 7,2 golpea Messina, Italia, y causa un tsunami en el Estrecho de Messina.',\n",
       " '22 de mayo de 1960 ': ' Aproximadamente 1.500 personas murieron cuando un terremoto de magnitud 9,5 golpeó Chile y causó un tsunami.',\n",
       " '28 de marzo de 1964 ': ' Se estima que 128 personas murieron cuando un terremoto de magnitud 9,2 golpeó Prince William Sound, Alaska, y causó un tsunami.',\n",
       " '16 de agosto de 1976 ': ' Se estima que entre 4.000 y 8.000 personas mueren cuando un terremoto de magnitud 8,0 golpeó a Filipinas y causó un tsunami.',\n",
       " '17 de julio de 1998 ': ' Aproximadamente 2.200 personas murieron cuando un terremoto de magnitud 7,0 golpeó Papua Nueva Guinea y causó un tsunami.',\n",
       " '26 de diciembre de 2004 ': ' Se estima que 227.898 personas murieron cuando un terremoto de magnitud 9,1 azotó Sumatra, Indonesia, y provocó un tsunami posterior en 14 países en el sur de Asia y África oriental.',\n",
       " '25 de octubre de 2010 ': ' Se estima que 449 personas murieron cuando un terremoto de magnitud 7,7 azotó a Indonesia y causó un tsunami.',\n",
       " '11 de marzo de 2011 ': ' Se produjo un terremoto de magnitud 9,1 a 371 kilómetros al noreste de Tokio. El terremoto causó un tsunami con olas de nueve metros que dañaron varios reactores nucleares en el área. El total combinado de muertes confirmadas y desaparecidas es de más de 22.000 (casi 20.000 muertes y 2.500 desaparecidos). (Fuente: Agencia de Manejo de Desastres y Fuego de Japón)',\n",
       " '28 de septiembre de 2018 ': ' Más de 2.100 personas murieron cuando un terremoto de magnitud 7,5 golpea la isla indonesia de Sulawesi y causó un tsunami.',\n",
       " '22 de diciembre de 2018 ': ' Un tsunami con olas de hasta tres metros golpea Pandeglang, Serang y el sur de Lampung, Indonesia, dejando más de 430 muertos, 148 desaparecidos y 16.000 desplazados. Los funcionarios creen que el tsunami fue causado por una serie de deslizamientos de tierra bajo el agua provocados por una erupción volcánica.\\n\\t\\t\\t\\t\\t\\t\\t\\t\\t\\n\\t\\t\\t\\t\\t\\t\\t\\t\\t\\n\\t\\nTsunami\\n\\n\\n\\n\\n\\n\\n\\n\\n'}"
      ]
     },
     "execution_count": 136,
     "metadata": {},
     "output_type": "execute_result"
    }
   ],
   "source": [
    "d = {}\n",
    "\n",
    "for i in range(0,len(fechas1)):\n",
    "    d[fechas1[i][0]]=fechas1[i][1]\n",
    "\n",
    "\n",
    "d\n",
    "\n",
    "\n",
    "\n",
    "#miLista= [element.split('=') for element in miLista]\n",
    "#miDiccionario = dict((key,value) for key,value in miLista )"
   ]
  },
  {
   "cell_type": "code",
   "execution_count": 137,
   "metadata": {},
   "outputs": [],
   "source": [
    "\n",
    "\n",
    "\n",
    "#fechas = [element.split(',') for element in fechas]\n",
    "#miDiccionario = dict((key,value) for key,value in fechas )\n",
    "#miDiccionario"
   ]
  },
  {
   "cell_type": "code",
   "execution_count": 143,
   "metadata": {},
   "outputs": [
    {
     "data": {
      "text/html": [
       "<div>\n",
       "<style scoped>\n",
       "    .dataframe tbody tr th:only-of-type {\n",
       "        vertical-align: middle;\n",
       "    }\n",
       "\n",
       "    .dataframe tbody tr th {\n",
       "        vertical-align: top;\n",
       "    }\n",
       "\n",
       "    .dataframe thead th {\n",
       "        text-align: right;\n",
       "    }\n",
       "</style>\n",
       "<table border=\"1\" class=\"dataframe\">\n",
       "  <thead>\n",
       "    <tr style=\"text-align: right;\">\n",
       "      <th></th>\n",
       "      <th>Fechas</th>\n",
       "      <th>Descripción</th>\n",
       "    </tr>\n",
       "  </thead>\n",
       "  <tbody>\n",
       "    <tr>\n",
       "      <th>0</th>\n",
       "      <td>1 de noviembre de 1755</td>\n",
       "      <td>Se estima que 60.000 personas murieron cuando...</td>\n",
       "    </tr>\n",
       "    <tr>\n",
       "      <th>1</th>\n",
       "      <td>27 de agosto de 1883</td>\n",
       "      <td>Se estima que 36.000 personas murieron cuando...</td>\n",
       "    </tr>\n",
       "    <tr>\n",
       "      <th>2</th>\n",
       "      <td>15 de junio de 1896</td>\n",
       "      <td>Se estima que 28.000 personas murieron cuando...</td>\n",
       "    </tr>\n",
       "    <tr>\n",
       "      <th>3</th>\n",
       "      <td>28 de diciembre de 1908</td>\n",
       "      <td>Se estima que entre 70.000 y 100.000 personas...</td>\n",
       "    </tr>\n",
       "    <tr>\n",
       "      <th>4</th>\n",
       "      <td>22 de mayo de 1960</td>\n",
       "      <td>Aproximadamente 1.500 personas murieron cuand...</td>\n",
       "    </tr>\n",
       "    <tr>\n",
       "      <th>5</th>\n",
       "      <td>28 de marzo de 1964</td>\n",
       "      <td>Se estima que 128 personas murieron cuando un...</td>\n",
       "    </tr>\n",
       "    <tr>\n",
       "      <th>6</th>\n",
       "      <td>16 de agosto de 1976</td>\n",
       "      <td>Se estima que entre 4.000 y 8.000 personas mu...</td>\n",
       "    </tr>\n",
       "    <tr>\n",
       "      <th>7</th>\n",
       "      <td>17 de julio de 1998</td>\n",
       "      <td>Aproximadamente 2.200 personas murieron cuand...</td>\n",
       "    </tr>\n",
       "    <tr>\n",
       "      <th>8</th>\n",
       "      <td>26 de diciembre de 2004</td>\n",
       "      <td>Se estima que 227.898 personas murieron cuand...</td>\n",
       "    </tr>\n",
       "    <tr>\n",
       "      <th>9</th>\n",
       "      <td>25 de octubre de 2010</td>\n",
       "      <td>Se estima que 449 personas murieron cuando un...</td>\n",
       "    </tr>\n",
       "    <tr>\n",
       "      <th>10</th>\n",
       "      <td>11 de marzo de 2011</td>\n",
       "      <td>Se produjo un terremoto de magnitud 9,1 a 371...</td>\n",
       "    </tr>\n",
       "    <tr>\n",
       "      <th>11</th>\n",
       "      <td>28 de septiembre de 2018</td>\n",
       "      <td>Más de 2.100 personas murieron cuando un terr...</td>\n",
       "    </tr>\n",
       "    <tr>\n",
       "      <th>12</th>\n",
       "      <td>22 de diciembre de 2018</td>\n",
       "      <td>Un tsunami con olas de hasta tres metros golp...</td>\n",
       "    </tr>\n",
       "  </tbody>\n",
       "</table>\n",
       "</div>"
      ],
      "text/plain": [
       "                       Fechas  \\\n",
       "0     1 de noviembre de 1755    \n",
       "1       27 de agosto de 1883    \n",
       "2        15 de junio de 1896    \n",
       "3    28 de diciembre de 1908    \n",
       "4         22 de mayo de 1960    \n",
       "5        28 de marzo de 1964    \n",
       "6       16 de agosto de 1976    \n",
       "7        17 de julio de 1998    \n",
       "8    26 de diciembre de 2004    \n",
       "9      25 de octubre de 2010    \n",
       "10       11 de marzo de 2011    \n",
       "11  28 de septiembre de 2018    \n",
       "12   22 de diciembre de 2018    \n",
       "\n",
       "                                          Descripción  \n",
       "0    Se estima que 60.000 personas murieron cuando...  \n",
       "1    Se estima que 36.000 personas murieron cuando...  \n",
       "2    Se estima que 28.000 personas murieron cuando...  \n",
       "3    Se estima que entre 70.000 y 100.000 personas...  \n",
       "4    Aproximadamente 1.500 personas murieron cuand...  \n",
       "5    Se estima que 128 personas murieron cuando un...  \n",
       "6    Se estima que entre 4.000 y 8.000 personas mu...  \n",
       "7    Aproximadamente 2.200 personas murieron cuand...  \n",
       "8    Se estima que 227.898 personas murieron cuand...  \n",
       "9    Se estima que 449 personas murieron cuando un...  \n",
       "10   Se produjo un terremoto de magnitud 9,1 a 371...  \n",
       "11   Más de 2.100 personas murieron cuando un terr...  \n",
       "12   Un tsunami con olas de hasta tres metros golp...  "
      ]
     },
     "execution_count": 143,
     "metadata": {},
     "output_type": "execute_result"
    }
   ],
   "source": [
    "#df = pd.DataFrame({'fecha' : fechas1[0], 'Descripción' : fechas1[1]}\n",
    "import pandas as pd\n",
    "df = pd.DataFrame([[key, d[key]] for key in d.keys()], columns=['Fechas', 'Descripción'])\n",
    "df\n"
   ]
  },
  {
   "cell_type": "code",
   "execution_count": null,
   "metadata": {},
   "outputs": [],
   "source": [
    "def top(df):\n",
    "    for n in df:\n",
    "        "
   ]
  },
  {
   "cell_type": "code",
   "execution_count": 37,
   "metadata": {},
   "outputs": [],
   "source": []
  },
  {
   "cell_type": "code",
   "execution_count": 40,
   "metadata": {},
   "outputs": [],
   "source": [
    "\n"
   ]
  },
  {
   "cell_type": "code",
   "execution_count": 41,
   "metadata": {},
   "outputs": [],
   "source": []
  },
  {
   "cell_type": "code",
   "execution_count": 42,
   "metadata": {},
   "outputs": [],
   "source": []
  },
  {
   "cell_type": "code",
   "execution_count": null,
   "metadata": {},
   "outputs": [],
   "source": []
  }
 ],
 "metadata": {
  "kernelspec": {
   "display_name": "Python 3",
   "language": "python",
   "name": "python3"
  },
  "language_info": {
   "codemirror_mode": {
    "name": "ipython",
    "version": 3
   },
   "file_extension": ".py",
   "mimetype": "text/x-python",
   "name": "python",
   "nbconvert_exporter": "python",
   "pygments_lexer": "ipython3",
   "version": "3.7.4"
  }
 },
 "nbformat": 4,
 "nbformat_minor": 2
}
